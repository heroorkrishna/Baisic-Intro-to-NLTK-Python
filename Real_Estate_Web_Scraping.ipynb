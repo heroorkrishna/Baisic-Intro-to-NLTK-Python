{
  "nbformat": 4,
  "nbformat_minor": 0,
  "metadata": {
    "colab": {
      "name": "Real-Estate-Web-Scraping.ipynb",
      "provenance": [],
      "collapsed_sections": [],
      "authorship_tag": "ABX9TyNLxOqhu/7i6diw37nNdlvH",
      "include_colab_link": true
    },
    "kernelspec": {
      "name": "python3",
      "display_name": "Python 3"
    }
  },
  "cells": [
    {
      "cell_type": "markdown",
      "metadata": {
        "id": "view-in-github",
        "colab_type": "text"
      },
      "source": [
        "<a href=\"https://colab.research.google.com/github/heroorkrishna/Baisic-Intro-to-NLTK-Python/blob/master/Real_Estate_Web_Scraping.ipynb\" target=\"_parent\"><img src=\"https://colab.research.google.com/assets/colab-badge.svg\" alt=\"Open In Colab\"/></a>"
      ]
    },
    {
      "cell_type": "markdown",
      "metadata": {
        "id": "DVp_6iT7Clkq",
        "colab_type": "text"
      },
      "source": [
        "\n",
        "**Web Scraping Real Estate**\n",
        "\n",
        "We will be scraping the real estate data from Makaan.com for the properties listed for sale in hyderabad. We will scrape the first 50 pages of the listing.\n",
        "\n",
        "**Libaries used :**\n",
        "\n",
        "Pandas\n",
        "Requests\n",
        "BeautifulSoup\n",
        "Time\n",
        "Random"
      ]
    },
    {
      "cell_type": "code",
      "metadata": {
        "id": "aXUdAkTgCs3P",
        "colab_type": "code",
        "colab": {}
      },
      "source": [
        "#import pandas, requests, beautifulsoup, time and random\n",
        "\n",
        "import pandas as pd \n",
        "import requests\n",
        "from bs4 import BeautifulSoup\n",
        "from time import time   \n",
        "from time import sleep \n",
        "from IPython.core.display import clear_output\n",
        "from random import randint"
      ],
      "execution_count": 5,
      "outputs": []
    },
    {
      "cell_type": "code",
      "metadata": {
        "id": "e1rvBSsRC2uD",
        "colab_type": "code",
        "colab": {
          "base_uri": "https://localhost:8080/",
          "height": 34
        },
        "outputId": "fb2ee072-5e3b-4b74-cc2f-da79257924d0"
      },
      "source": [
        "Agent = []                    #Name of the agent\n",
        "BHK_Apartment = []            #Number of BHK\n",
        "Price_in_lakhs = []           #Price of the apartment in lakhs\n",
        "Per_square_ft_price = []      #Price per square feet\n",
        "Apartment_size = []           #Size of the aprtment\n",
        "Status = []                   #Status of the apar\n",
        "\n",
        "\n",
        "#monitoring the loop\n",
        "start_time = time()\n",
        "request = 0\n",
        "\n",
        "#crawl through first 500 pages\n",
        "for pages in range(1,51):\n",
        "  response = requests.get('https://www.makaan.com/bangalore-residential-property/buy-property-in-bangalore-city?budget=,&page=' + str(pages))\n",
        "\n",
        "  #pause and wait for 3-6 sec\n",
        "  sleep(randint(3,6))\n",
        "  \n",
        "  #Monitor the request\n",
        "  request += 1\n",
        "  elapsed_time = time() - start_time\n",
        "  print('Request:{}; Frequency: {} requests_per_sec'.format(request, request/elapsed_time))\n",
        "  clear_output(wait = True)\n",
        "\n",
        "  #pass html parser and find all the 'li' tags\n",
        "  soup = BeautifulSoup(response.text,'html.parser')\n",
        "  property_list = soup.find_all('li',class_='cardholder')\n",
        "\n",
        "  #iterate through all the list\n",
        "  for lst in property_list:\n",
        "\n",
        "    #if proerty has seller info\n",
        "    if lst.find('div', class_ = 'seller-info') is not None:\n",
        "\n",
        "      #find name of the seller and append it ine Agent list\n",
        "      name = lst.a.text\n",
        "      Agent.append(name)\n",
        "\n",
        "      #find number of bhk and append it in BHK_Apartment\n",
        "      apartment = lst.find('div',class_='title-line').span.text\n",
        "      BHK_Apartment.append(apartment)\n",
        "\n",
        "      #Find price of the apartment and append it in Price in lakhs\n",
        "      price = lst.tbody.div.span.text\n",
        "      Price_in_lakhs.append(price)\n",
        "\n",
        "      #Find price per square feet and append it in per_square_ft_price\n",
        "      sqt_price = lst.find('td',class_='lbl rate').text\n",
        "      Per_square_ft_price.append(sqt_price)\n",
        "\n",
        "      #find size of the apartment and append it in Apartment_size\n",
        "      a_size = lst.find('td',class_ = 'size').span.text\n",
        "      Apartment_size.append(a_size)\n",
        "\n",
        "      #find the status of the apartment and append it in Status\n",
        "      stat = lst.find('td',class_ = 'val').text \n",
        "      Status.append(stat)"
      ],
      "execution_count": 7,
      "outputs": [
        {
          "output_type": "stream",
          "text": [
            "Request:50; Frequency: 0.19286162260058148 requests_per_sec\n"
          ],
          "name": "stdout"
        }
      ]
    },
    {
      "cell_type": "code",
      "metadata": {
        "id": "lj5LPja5DthA",
        "colab_type": "code",
        "colab": {
          "base_uri": "https://localhost:8080/",
          "height": 238
        },
        "outputId": "c40ca1c1-3e22-436a-f186-811cc3916003"
      },
      "source": [
        "\n",
        "#create a dataframe with column names ---> \n",
        "  #Agent -----> Name of the agent\n",
        "  #BHK_Apartment ------> Number of BHK\n",
        "  #Price_in_lakhs -----> Price of the apartment in lakhs\n",
        "  #Per_square_ft_price ---> Price per square feet\n",
        "  #Apartment_Size ------> Size of the aprtment\n",
        "  #Status ------------> Status of the apartment (New,Re-sale,Ready to move etc)\n",
        "\n",
        "Bangalore_apartments = pd.DataFrame({'Agent' : Agent, 'BHK_Apartment' : BHK_Apartment,'Price_in_lakhs' : Price_in_lakhs,\n",
        "                                     'Per_Square_ft_price' : Per_square_ft_price, 'Aprtment_Size' : Apartment_size, 'Status' : Status})\n",
        "Bangalore_apartments.info()"
      ],
      "execution_count": 8,
      "outputs": [
        {
          "output_type": "stream",
          "text": [
            "<class 'pandas.core.frame.DataFrame'>\n",
            "RangeIndex: 1000 entries, 0 to 999\n",
            "Data columns (total 6 columns):\n",
            " #   Column               Non-Null Count  Dtype \n",
            "---  ------               --------------  ----- \n",
            " 0   Agent                1000 non-null   object\n",
            " 1   BHK_Apartment        1000 non-null   object\n",
            " 2   Price_in_lakhs       1000 non-null   object\n",
            " 3   Per_Square_ft_price  1000 non-null   object\n",
            " 4   Aprtment_Size        1000 non-null   object\n",
            " 5   Status               1000 non-null   object\n",
            "dtypes: object(6)\n",
            "memory usage: 47.0+ KB\n"
          ],
          "name": "stdout"
        }
      ]
    },
    {
      "cell_type": "code",
      "metadata": {
        "id": "vuRiJ1CHD9OW",
        "colab_type": "code",
        "colab": {
          "base_uri": "https://localhost:8080/",
          "height": 359
        },
        "outputId": "625deeb7-1ceb-4c62-f711-736cad4fc95e"
      },
      "source": [
        "#Print Head\n",
        "Bangalore_apartments.head(10)"
      ],
      "execution_count": 9,
      "outputs": [
        {
          "output_type": "execute_result",
          "data": {
            "text/html": [
              "<div>\n",
              "<style scoped>\n",
              "    .dataframe tbody tr th:only-of-type {\n",
              "        vertical-align: middle;\n",
              "    }\n",
              "\n",
              "    .dataframe tbody tr th {\n",
              "        vertical-align: top;\n",
              "    }\n",
              "\n",
              "    .dataframe thead th {\n",
              "        text-align: right;\n",
              "    }\n",
              "</style>\n",
              "<table border=\"1\" class=\"dataframe\">\n",
              "  <thead>\n",
              "    <tr style=\"text-align: right;\">\n",
              "      <th></th>\n",
              "      <th>Agent</th>\n",
              "      <th>BHK_Apartment</th>\n",
              "      <th>Price_in_lakhs</th>\n",
              "      <th>Per_Square_ft_price</th>\n",
              "      <th>Aprtment_Size</th>\n",
              "      <th>Status</th>\n",
              "    </tr>\n",
              "  </thead>\n",
              "  <tbody>\n",
              "    <tr>\n",
              "      <th>0</th>\n",
              "      <td>TG Developers</td>\n",
              "      <td>3</td>\n",
              "      <td>75</td>\n",
              "      <td>4,746 / sq ft</td>\n",
              "      <td>1580</td>\n",
              "      <td>Under Construction</td>\n",
              "    </tr>\n",
              "    <tr>\n",
              "      <th>1</th>\n",
              "      <td>Prestige Estates Projects Ltd</td>\n",
              "      <td>3</td>\n",
              "      <td>1.1</td>\n",
              "      <td>5,547 / sq ft</td>\n",
              "      <td>1983</td>\n",
              "      <td>Ready to move</td>\n",
              "    </tr>\n",
              "    <tr>\n",
              "      <th>2</th>\n",
              "      <td>Hiren Wahen Group</td>\n",
              "      <td>3</td>\n",
              "      <td>1.29</td>\n",
              "      <td>7,543 / sq ft</td>\n",
              "      <td>1715</td>\n",
              "      <td>Under Construction</td>\n",
              "    </tr>\n",
              "    <tr>\n",
              "      <th>3</th>\n",
              "      <td>V Venture</td>\n",
              "      <td>2</td>\n",
              "      <td>50.01</td>\n",
              "      <td>4,736 / sq ft</td>\n",
              "      <td>1056</td>\n",
              "      <td>Under Construction</td>\n",
              "    </tr>\n",
              "    <tr>\n",
              "      <th>4</th>\n",
              "      <td>NYK Homes</td>\n",
              "      <td>3</td>\n",
              "      <td>1.01</td>\n",
              "      <td>6,438 / sq ft</td>\n",
              "      <td>1570</td>\n",
              "      <td>Under Construction</td>\n",
              "    </tr>\n",
              "    <tr>\n",
              "      <th>5</th>\n",
              "      <td>BSCPL Infrastructure Ltd</td>\n",
              "      <td>2</td>\n",
              "      <td>59</td>\n",
              "      <td>5,437 / sq ft</td>\n",
              "      <td>1085</td>\n",
              "      <td>Ready to move</td>\n",
              "    </tr>\n",
              "    <tr>\n",
              "      <th>6</th>\n",
              "      <td>ISR Constructions Pvt Ltd</td>\n",
              "      <td>2</td>\n",
              "      <td>38</td>\n",
              "      <td>4,212 / sq ft</td>\n",
              "      <td>902</td>\n",
              "      <td>Under Construction</td>\n",
              "    </tr>\n",
              "    <tr>\n",
              "      <th>7</th>\n",
              "      <td>Sidvin Developers</td>\n",
              "      <td>3</td>\n",
              "      <td>92.57</td>\n",
              "      <td>5,651 / sq ft</td>\n",
              "      <td>1638</td>\n",
              "      <td>Ready to move</td>\n",
              "    </tr>\n",
              "    <tr>\n",
              "      <th>8</th>\n",
              "      <td>LVS Builders Developers</td>\n",
              "      <td>3</td>\n",
              "      <td>76.44</td>\n",
              "      <td>4,900 / sq ft</td>\n",
              "      <td>1560</td>\n",
              "      <td>Under Construction</td>\n",
              "    </tr>\n",
              "    <tr>\n",
              "      <th>9</th>\n",
              "      <td>Celebrity Prime Developers</td>\n",
              "      <td>Residential Plot</td>\n",
              "      <td>19.18</td>\n",
              "      <td>1,599 / sq ft</td>\n",
              "      <td>1200</td>\n",
              "      <td>New</td>\n",
              "    </tr>\n",
              "  </tbody>\n",
              "</table>\n",
              "</div>"
            ],
            "text/plain": [
              "                           Agent  ...              Status\n",
              "0                  TG Developers  ...  Under Construction\n",
              "1  Prestige Estates Projects Ltd  ...       Ready to move\n",
              "2              Hiren Wahen Group  ...  Under Construction\n",
              "3                      V Venture  ...  Under Construction\n",
              "4                      NYK Homes  ...  Under Construction\n",
              "5       BSCPL Infrastructure Ltd  ...       Ready to move\n",
              "6      ISR Constructions Pvt Ltd  ...  Under Construction\n",
              "7              Sidvin Developers  ...       Ready to move\n",
              "8        LVS Builders Developers  ...  Under Construction\n",
              "9     Celebrity Prime Developers  ...                 New\n",
              "\n",
              "[10 rows x 6 columns]"
            ]
          },
          "metadata": {
            "tags": []
          },
          "execution_count": 9
        }
      ]
    },
    {
      "cell_type": "code",
      "metadata": {
        "id": "S_9thoIaF0vr",
        "colab_type": "code",
        "colab": {}
      },
      "source": [
        "\n",
        "#download the data in local system\n",
        "Bangalore_apartments.to_csv('Bangalore_Apartments.csv')\n"
      ],
      "execution_count": 10,
      "outputs": []
    }
  ]
}